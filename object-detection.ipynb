{
 "cells": [
  {
   "cell_type": "markdown",
   "metadata": {},
   "source": [
    "<font color = 'red' size = 6>Load a pre trained model</font>"
   ]
  },
  {
   "cell_type": "code",
   "execution_count": null,
   "metadata": {},
   "outputs": [],
   "source": [
    "import tensorflow as tf\n",
    "\n",
    "# Load the pre-trained model\n",
    "model = tf.saved_model.load('ssd_mobilenet_v2_fpnlite_320x320_coco17_tpu-8/saved_model')"
   ]
  },
  {
   "cell_type": "markdown",
   "metadata": {},
   "source": [
    "<font size = 6 color = 'orange'>Load and preprocess the image</font>"
   ]
  },
  {
   "cell_type": "code",
   "execution_count": 8,
   "metadata": {},
   "outputs": [],
   "source": [
    "import cv2\n",
    "import numpy as np\n",
    "\n",
    "# Load the image\n",
    "image_path = 'image.png'  # Replace with your image path\n",
    "image = cv2.imread(image_path)\n",
    "\n",
    "# Convert image to RGB\n",
    "image_rgb = cv2.cvtColor(image, cv2.COLOR_BGR2RGB)\n",
    "\n",
    "# Resize the image to the size the model expects\n",
    "input_tensor = tf.convert_to_tensor(image_rgb)\n",
    "input_tensor = input_tensor[tf.newaxis]\n",
    "\n",
    "# Run the model\n",
    "detections = model(input_tensor)\n"
   ]
  },
  {
   "cell_type": "markdown",
   "metadata": {},
   "source": [
    "<font size = 6 color = 'yellow'>Process the Output</font>"
   ]
  },
  {
   "cell_type": "code",
   "execution_count": 9,
   "metadata": {},
   "outputs": [],
   "source": [
    "# The model returns a dictionary of tensors\n",
    "detection_boxes = detections['detection_boxes'][0].numpy()\n",
    "detection_classes = detections['detection_classes'][0].numpy().astype(np.int32)\n",
    "detection_scores = detections['detection_scores'][0].numpy()\n",
    "\n",
    "# Define a threshold for detection confidence\n",
    "confidence_threshold = 0.5\n",
    "height, width, _ = image.shape\n",
    "\n",
    "# Draw the bounding boxes and labels on the image\n",
    "for i in range(len(detection_boxes)):\n",
    "    if detection_scores[i] >= confidence_threshold:\n",
    "        box = detection_boxes[i]\n",
    "        class_id = detection_classes[i]\n",
    "        score = detection_scores[i]\n",
    "        \n",
    "        # Convert to pixel coordinates\n",
    "        y_min, x_min, y_max, x_max = box\n",
    "        x_min = int(x_min * width)\n",
    "        x_max = int(x_max * width)\n",
    "        y_min = int(y_min * height)\n",
    "        y_max = int(y_max * height)\n",
    "        \n",
    "        # Draw the bounding box\n",
    "        cv2.rectangle(image, (x_min, y_min), (x_max, y_max), (0, 255, 0), 2)\n",
    "        \n",
    "        # Draw the label\n",
    "        label = f'Class {class_id}: {score:.2f}'\n",
    "        cv2.putText(image, label, (x_min, y_min - 10), cv2.FONT_HERSHEY_SIMPLEX, 0.5, (0, 255, 0), 2)\n"
   ]
  },
  {
   "cell_type": "code",
   "execution_count": 10,
   "metadata": {},
   "outputs": [],
   "source": [
    "# Convert back to BGR for OpenCV\n",
    "image_bgr = cv2.cvtColor(image, cv2.COLOR_RGB2BGR)\n",
    "\n",
    "# Display the image\n",
    "cv2.imshow('Object Detection', image_bgr)\n",
    "cv2.waitKey(0)\n",
    "cv2.destroyAllWindows()\n"
   ]
  },
  {
   "cell_type": "code",
   "execution_count": null,
   "metadata": {},
   "outputs": [],
   "source": []
  }
 ],
 "metadata": {
  "kernelspec": {
   "display_name": "Python 3",
   "language": "python",
   "name": "python3"
  },
  "language_info": {
   "codemirror_mode": {
    "name": "ipython",
    "version": 3
   },
   "file_extension": ".py",
   "mimetype": "text/x-python",
   "name": "python",
   "nbconvert_exporter": "python",
   "pygments_lexer": "ipython3",
   "version": "3.11.5"
  }
 },
 "nbformat": 4,
 "nbformat_minor": 2
}
