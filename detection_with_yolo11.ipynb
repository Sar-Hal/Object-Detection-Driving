{
 "cells": [
  {
   "cell_type": "code",
   "execution_count": null,
   "metadata": {},
   "outputs": [],
   "source": [
    "import os\n",
    "import cv2\n",
    "from ultralytics import YOLO\n",
    "\n",
    "# Load YOLO model\n",
    "model_path = \"yolov8n.pt\"  # Replace with a valid YOLO model file\n",
    "if not os.path.exists(model_path):\n",
    "    print(f\"Error: Model file '{model_path}' not found.\")\n",
    "    exit()\n",
    "\n",
    "model = YOLO(model_path)\n",
    "\n",
    "# Input: Video filename\n",
    "vid_name = input(\"Enter the video filename: \")\n",
    "if not os.path.exists(vid_name):\n",
    "    print(f\"Error: Video file '{vid_name}' not found.\")\n",
    "    exit()\n",
    "\n",
    "cap = cv2.VideoCapture(vid_name)\n",
    "if not cap.isOpened():\n",
    "    print(f\"Error: Could not open video file '{vid_name}'.\")\n",
    "    exit()\n",
    "\n",
    "cv2.namedWindow(\"Real-time Object Detection\", cv2.WINDOW_NORMAL)\n",
    "print(f\"Processing {vid_name}...\")\n",
    "\n",
    "while cap.isOpened():\n",
    "    ret, frame = cap.read()\n",
    "    if not ret:\n",
    "        break\n",
    "\n",
    "    # Resize frame for performance (optional)\n",
    "    frame = cv2.resize(frame, (640, 360))\n",
    "\n",
    "    try:\n",
    "        # Run YOLO inference\n",
    "        results = model.predict(frame, conf=0.5)\n",
    "\n",
    "        # Annotate frame\n",
    "        annotated_frame = results[0].plot()\n",
    "\n",
    "        # Display results\n",
    "        cv2.imshow(\"Real-time Object Detection\", annotated_frame)\n",
    "    except Exception as e:\n",
    "        print(f\"Error during processing: {e}\")\n",
    "        break\n",
    "\n",
    "    if cv2.waitKey(1) & 0xFF == ord('q'):\n",
    "        print(\"Exit requested by user.\")\n",
    "        break\n",
    "\n",
    "# Release resources\n",
    "cap.release()\n",
    "cv2.destroyAllWindows()\n",
    "print(\"Processing completed.\")"
   ]
  }
 ],
 "metadata": {
  "kernelspec": {
   "display_name": "Python 3",
   "language": "python",
   "name": "python3"
  },
  "language_info": {
   "codemirror_mode": {
    "name": "ipython",
    "version": 3
   },
   "file_extension": ".py",
   "mimetype": "text/x-python",
   "name": "python",
   "nbconvert_exporter": "python",
   "pygments_lexer": "ipython3",
   "version": "3.11.5"
  }
 },
 "nbformat": 4,
 "nbformat_minor": 2
}
